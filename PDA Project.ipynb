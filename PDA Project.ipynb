{
 "cells": [
  {
   "cell_type": "markdown",
   "metadata": {},
   "source": [
    "## GMIT: Programming for Data Analysis (Module:52465)\n",
    "## Edel Corcoran ID# G00010824\n",
    "## Lecturer: Brian McGinley\n",
    "## Semester: Sept-Dec 2019"
   ]
  },
  {
   "cell_type": "markdown",
   "metadata": {},
   "source": [
    "### Project Objectives:\n",
    "    \n",
    "• Choose a real-world phenomenon that can be measured and for which you could collect at least one-hundred data points across at least four diﬀerent variables. \n",
    "\n",
    "• Investigate the types of variables involved, their likely distributions, and their relationships with each other. \n",
    "\n",
    "• Synthesise/simulate a data set as closely matching their properties as possible. \n",
    "\n",
    "• Detail your research and implement the simulation in a Jupyter notebook – the data set itself can simply be displayed in an output cell within the notebook."
   ]
  },
  {
   "cell_type": "markdown",
   "metadata": {},
   "source": [
    "### Synthetic Data & Why It Is Important\n",
    "\n",
    "Some of the richest companies in the world like Google, Facebook and YouTube provide free services to their users and yet they amass huge revenue. What makes these companies so valuable is data, these companies accumulate enormous amounts of data on users which is extremely valuable. Using data a companies like google or facebook can monitor your behaviour and patterns like who you know and where you've been or what you bought, they can record information (name/address/email) on databases. The data they gather can help them gain an insight into users which helps them predict future actions or actions for those of a similar age/sex etc. so it's easy to see how valuable their databases become over time.\n",
    "\n",
    "However it may not always be possible to access data or relevant data for data analytics purposes and so sythethic data comes into play.\n",
    "\n",
    "This project looks at synthethic data. \"There are lots of situtations, where a scientist or an engineer needs learn or test data, but it is hard or impossible to get real data, i.e. a sample from a population obtained by measurement. The task or challenge of creating synthetical data consists in producing data which resembles or comes quite close to the intended \"real life\" data. Python is an ideal language for easily producing such data, because it has powerful numerical and linguistic functionalities.Synthetic data are also necessary to satisfy specific needs or certain conditions that may not be found in the \"real life\" data. Another use case of synthetical data is to protect privacy of the data needed.\" [[1]](https://www.python-course.eu/synthetical_test_data_with_python.php)"
   ]
  },
  {
   "cell_type": "markdown",
   "metadata": {},
   "source": [
    "### What is the NumPy.Random Package?\n",
    "\n",
    "The NumPy.Random package will be used to help generate the synthetic in this project. \n",
    "\"NumPy is the fundamental package for scientific computing in Python. It is a Python library that provides a multidimensional array object, various derived objects (such as masked arrays and matrices), and an assortment of routines for fast operations on arrays, including mathematical, logical, shape manipulation, sorting, selecting, I/O, discrete Fourier transforms, basic linear algebra, basic statistical operations, random simulation and much more.\" [[2]](https://docs.scipy.org/doc/numpy-1.15.0/user/whatisnumpy.html)\n",
    "\n",
    "Essentially the NumPy package is efficient and quick at dealing with numbers in big lists or matrices in python and NumPy can deal with multi-dimensional arrays. The Numpy.Random package is a sub-package of NumPy in python, it has several simple random functions which when used make it possible to generate random data to a specified size and shape. Analysts can use this package to generate random data almost instantly given how quicking it can carry out such tasks.\n",
    "\n",
    "For more information on the functions/permutations/distributions/random generator in the numpy.random package on website:\n",
    "\n",
    "https://docs.scipy.org/doc/numpy-1.15.0/reference/routines.random.html"
   ]
  },
  {
   "cell_type": "code",
   "execution_count": null,
   "metadata": {},
   "outputs": [],
   "source": []
  },
  {
   "cell_type": "code",
   "execution_count": 6,
   "metadata": {},
   "outputs": [],
   "source": [
    "#Import Libraries\n",
    "import numpy as np\n",
    "import pandas as pd\n",
    "import seaborn as sns\n",
    "import matplotlib.pyplot as plt"
   ]
  },
  {
   "cell_type": "code",
   "execution_count": 16,
   "metadata": {},
   "outputs": [],
   "source": [
    "#Set seed so same data generated each time code is run\n",
    "np.random.seed(12345)\n",
    "# randomly select 1000 samples from uniform distribution for districts 1-24\n",
    "district = np.random.uniform(1,24, 1000).round(0)"
   ]
  },
  {
   "cell_type": "code",
   "execution_count": 14,
   "metadata": {},
   "outputs": [
    {
     "data": {
      "text/plain": [
       "array([22.,  8.,  5.,  6., 14., 15., 23., 16., 18., 16., 18., 23.,  1.,\n",
       "        3.,  8., 16., 20., 21., 23., 18., 16., 18., 12.,  8., 11., 18.,\n",
       "       24., 17., 19.,  5.,  2., 19., 22.,  2., 12., 13., 15.,  2., 22.,\n",
       "       18., 20., 13., 20.,  3.,  6.,  7., 12., 12., 17.,  5., 13.,  5.,\n",
       "       19., 22., 15.,  4., 12., 10., 21., 22., 10.,  8., 14.,  5.,  4.,\n",
       "       17., 19., 14., 23., 16., 21., 12.,  9., 17., 13.,  6.,  7., 19.,\n",
       "       12., 22., 23., 13.,  7., 18.,  9., 12.,  6.,  9., 16.,  8., 19.,\n",
       "       19., 21., 23.,  3., 22.,  9., 20., 22.,  2.,  6.,  8., 15.,  3.,\n",
       "        4., 13., 17., 21., 16., 14., 17.,  7., 22., 11.,  1., 23., 16.,\n",
       "       13., 17., 12., 22., 13.,  3., 14., 15., 23., 11.,  7.,  3., 12.,\n",
       "       12.,  2., 17., 17., 18., 11.,  1., 22., 19.,  5.,  8., 15.,  9.,\n",
       "        5.,  5., 21.,  8., 14., 11., 10., 21., 17.,  7.,  2.,  6., 22.,\n",
       "       21., 23.,  2., 14., 12.,  1., 10., 11., 15., 16., 20., 19., 10.,\n",
       "       19., 22.,  7., 24., 21., 18.,  9., 21., 21., 23.,  1.,  1.,  8.,\n",
       "       24.,  4.,  5., 18.,  3., 17., 12.,  1., 19., 19.,  4.,  2., 19.,\n",
       "        6.,  7., 12.,  7., 14., 20., 10., 11., 20., 10.,  2., 14., 11.,\n",
       "       18., 10., 20., 12., 14., 16., 12., 15.,  6., 18., 10.,  5.,  7.,\n",
       "        7.,  4., 19.,  7.,  4., 16., 10., 16., 16.,  8.,  6.,  6.,  4.,\n",
       "        2.,  2.,  6.,  6., 15., 22., 19., 18.,  8.,  9.,  6., 23., 14.,\n",
       "       20.,  9., 19.,  3., 17., 22., 19.,  9.,  7., 12., 11., 11.,  3.,\n",
       "       15., 18., 19., 10., 19., 12., 18.,  5., 11., 20., 20.,  5.,  1.,\n",
       "       17.,  9., 11., 19., 23., 22.,  4., 19., 17., 13., 21., 18.,  3.,\n",
       "        9., 10.,  1., 15., 17.,  9., 10., 12., 14.,  4., 24., 13., 12.,\n",
       "        5.,  8., 19.,  8., 17.,  7., 22.,  8., 21., 23.,  5.,  9., 17.,\n",
       "       22.,  4.,  3., 10., 23.,  2.,  5., 15.,  3.,  8., 15.,  6., 17.,\n",
       "        7., 17., 12.,  7.,  8., 22.,  7., 20.,  6.,  9., 23., 13., 10.,\n",
       "        2., 15.,  9.,  7.,  2.,  9.,  3.,  1.,  2.,  9.,  3., 13.,  6.,\n",
       "       24.,  7., 17., 13., 11., 16.,  4., 19.,  4., 16.,  6.,  2., 15.,\n",
       "       16., 16., 21.,  9., 10., 15., 23.,  4.,  5.,  5., 17., 22., 11.,\n",
       "       14.,  8.,  5., 17., 18., 23., 10., 17., 24.,  4., 18.,  5., 20.,\n",
       "       14., 14., 23., 11., 12., 16., 15.,  4.,  9., 16., 22.,  3.,  3.,\n",
       "       11.,  6., 13., 14., 12.,  6.,  7.,  6., 16., 20., 22., 19., 17.,\n",
       "        6., 18., 17., 10., 21., 13., 22., 20.,  6., 20.,  4., 12.,  4.,\n",
       "       11., 16., 19., 16., 17., 21.,  4.,  4.,  8.,  2., 17., 19.,  9.,\n",
       "       15., 23.,  8., 17.,  2.,  2., 20., 11., 10.,  9., 12., 20., 12.,\n",
       "       11., 14., 18.,  2., 15., 15.,  1., 15.,  2., 14., 11.,  9., 22.,\n",
       "        7.,  7., 13., 16., 23.,  2., 11., 15., 18.,  5., 13., 13., 22.,\n",
       "       10., 16.,  2., 18.,  9., 23.,  9., 17., 20., 12., 24., 15., 18.,\n",
       "       17., 22., 23., 24.,  4., 23.,  6.,  5., 13., 13.,  8.,  8.,  8.,\n",
       "        7., 15.,  6., 10.,  8.,  5.,  6., 24., 11., 20., 14., 16., 18.,\n",
       "       10., 10., 21., 20., 20.,  5.,  9., 12., 23., 14., 20.,  3., 14.,\n",
       "       14., 22.,  9., 22.,  4.,  3., 23., 23., 15.,  2.,  2.,  8., 10.,\n",
       "       19., 21., 14.,  8., 10.,  4.,  4., 18., 21.,  7., 17.,  9.,  1.,\n",
       "       19., 11.,  9.,  7., 15.,  8., 23.,  3., 21., 14.,  2., 21.,  6.,\n",
       "       19., 19.,  2., 15., 15.,  3., 19.,  4., 12.,  3., 14., 10., 14.,\n",
       "       18., 21., 10.,  8., 13., 13.,  3.,  2., 15., 20.,  2., 19.,  7.,\n",
       "       19.,  8., 12., 22., 22.,  4., 13., 15., 15., 16.,  9.,  4., 14.,\n",
       "        8.,  5., 14., 15.,  2., 24.,  3., 10., 16.,  6.,  7., 15., 19.,\n",
       "       14.,  6., 19., 20., 17., 23., 21., 23., 12., 12., 14., 23., 10.,\n",
       "       15., 15., 14.,  4., 10.,  6., 19., 19.,  5., 18., 22., 12., 22.,\n",
       "       11.,  3.,  9.,  5.,  4.,  6., 21., 20., 16., 23.,  4., 15.,  9.,\n",
       "       20., 16., 11., 17.,  6.,  1.,  7., 15., 12., 17.,  5., 23., 23.,\n",
       "       24.,  2., 18., 15.,  3., 24., 14., 17., 18., 14., 13.,  4.,  7.,\n",
       "       10.,  3., 18.,  9., 24., 21., 23., 18.,  2., 10.,  1.,  3., 17.,\n",
       "       24., 16., 11.,  2., 22., 17., 12.,  6.,  3., 16., 24., 15., 20.,\n",
       "        5., 21., 14., 24., 18.,  3.,  8.,  7.,  3., 17.,  6., 14., 19.,\n",
       "        6.,  8.,  9., 23., 16., 23.,  3.,  7.,  7., 20., 20.,  8., 16.,\n",
       "       11.,  3., 18., 14.,  9.,  7.,  8., 19., 11.,  8.,  7.,  7., 20.,\n",
       "        5.,  7., 15., 23.,  1.,  7., 18.,  7., 22., 13., 13., 17., 16.,\n",
       "        8.,  1., 15., 20., 12., 19., 10., 10., 22., 22., 18.,  8.,  9.,\n",
       "        8., 19.,  1.,  3., 11.,  7., 22., 21., 17.,  6., 22., 23., 14.,\n",
       "        7.,  8., 15., 19., 11., 16., 11.,  9., 15., 20., 12.,  2., 12.,\n",
       "       13., 11., 10., 19.,  3.,  1., 19., 21.,  6., 15.,  2.,  6., 12.,\n",
       "       16.,  6., 12., 24., 13., 12., 16., 13.,  7., 20.,  4.,  5.,  5.,\n",
       "       10.,  3., 10., 20.,  9., 21., 23., 20.,  4., 14.,  3., 21.,  9.,\n",
       "       22.,  4., 16., 21.,  1.,  8.,  2., 14.,  5., 15.,  1.,  7., 18.,\n",
       "       21., 13., 12.,  2., 18., 20., 21., 20., 12.,  1.,  9., 18., 22.,\n",
       "        8.,  5., 21., 10., 15., 15.,  8., 16., 11., 17.,  5.,  5., 12.,\n",
       "       13., 19.,  5., 24.,  8., 20., 20., 22., 18.,  8.,  2., 14., 23.,\n",
       "        5., 18.,  2.,  5., 13., 12., 19.,  4., 22.,  5., 11.,  4., 17.,\n",
       "       20.,  5., 14., 18., 12.,  7., 18.,  9., 16.,  2., 22., 13.,  7.,\n",
       "       20., 11., 16., 24., 21., 22., 21.,  3.,  8.,  6., 10., 11., 23.,\n",
       "       22., 24., 10., 23., 15., 13.,  7.,  5., 11.,  9., 13., 14.,  1.,\n",
       "        8.,  5., 23.,  6., 20., 17., 14., 17.,  6., 17., 15., 18.,  5.,\n",
       "        3., 23., 10., 16., 23., 20.,  4., 13.,  5.,  2., 22.,  7.,  2.,\n",
       "       12., 19., 14.,  4., 10.,  7., 13., 22., 21., 20.,  6.,  4.,  4.,\n",
       "       21.,  3., 10.,  5., 10., 20., 24.,  1., 14., 18., 10.,  8.])"
      ]
     },
     "execution_count": 14,
     "metadata": {},
     "output_type": "execute_result"
    }
   ],
   "source": [
    "district"
   ]
  },
  {
   "cell_type": "code",
   "execution_count": 15,
   "metadata": {},
   "outputs": [
    {
     "name": "stdout",
     "output_type": "stream",
     "text": [
      "[[ 1.  2.  3.  4.  5.  6.  7.  8.  9. 10. 11. 12. 13. 14. 15. 16. 17. 18.\n",
      "  19. 20. 21. 22. 23. 24.]\n",
      " [23. 42. 39. 40. 45. 42. 47. 46. 41. 45. 37. 47. 37. 45. 49. 42. 45. 44.\n",
      "  47. 46. 38. 47. 45. 21.]]\n"
     ]
    }
   ],
   "source": [
    "unique_elements, counts_elements = np.unique(district, return_counts=True)\n",
    "print (np.array((unique_elements, counts_elements)))"
   ]
  },
  {
   "cell_type": "code",
   "execution_count": null,
   "metadata": {},
   "outputs": [],
   "source": []
  },
  {
   "cell_type": "code",
   "execution_count": null,
   "metadata": {},
   "outputs": [],
   "source": []
  },
  {
   "cell_type": "code",
   "execution_count": null,
   "metadata": {},
   "outputs": [],
   "source": []
  },
  {
   "cell_type": "code",
   "execution_count": null,
   "metadata": {},
   "outputs": [],
   "source": []
  },
  {
   "cell_type": "markdown",
   "metadata": {},
   "source": [
    "### References\n",
    "\n",
    "[1] [python-course.eu](https://www.python-course.eu/synthetical_test_data_with_python.php)\n",
    "\n",
    "[2] [NumPy](https://docs.scipy.org/doc/numpy-1.15.0/user/whatisnumpy.html)"
   ]
  },
  {
   "cell_type": "code",
   "execution_count": null,
   "metadata": {},
   "outputs": [],
   "source": []
  },
  {
   "cell_type": "markdown",
   "metadata": {},
   "source": [
    "Bibliography:\n",
    "\n",
    "- [TowardsDataScience - Synthetic Data Generation](https://towardsdatascience.com/synthetic-data-generation-a-must-have-skill-for-new-data-scientists-915896c0c1ae)\n",
    "\n",
    "- [python-course.eu - Synthetic Data Testing](https://www.python-course.eu/synthetical_test_data_with_python.php)"
   ]
  },
  {
   "cell_type": "code",
   "execution_count": null,
   "metadata": {},
   "outputs": [],
   "source": []
  }
 ],
 "metadata": {
  "kernelspec": {
   "display_name": "Python 3",
   "language": "python",
   "name": "python3"
  },
  "language_info": {
   "codemirror_mode": {
    "name": "ipython",
    "version": 3
   },
   "file_extension": ".py",
   "mimetype": "text/x-python",
   "name": "python",
   "nbconvert_exporter": "python",
   "pygments_lexer": "ipython3",
   "version": "3.7.1"
  }
 },
 "nbformat": 4,
 "nbformat_minor": 2
}
