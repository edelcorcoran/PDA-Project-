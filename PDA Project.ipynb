{
 "cells": [
  {
   "cell_type": "markdown",
   "metadata": {},
   "source": [
    "## GMIT: Programming for Data Analysis (Module:52465)\n",
    "## Edel Corcoran ID# G00010824\n",
    "## Lecturer: Brian McGinley\n",
    "## Semester: Sept-Dec 2019"
   ]
  },
  {
   "cell_type": "markdown",
   "metadata": {},
   "source": [
    "### Project Objectives:\n",
    "    \n",
    "• Choose a real-world phenomenon that can be measured and for which you could collect at least one-hundred data points across at least four diﬀerent variables. \n",
    "\n",
    "• Investigate the types of variables involved, their likely distributions, and their relationships with each other. \n",
    "\n",
    "• Synthesise/simulate a data set as closely matching their properties as possible. \n",
    "\n",
    "• Detail your research and implement the simulation in a Jupyter notebook – the data set itself can simply be displayed in an output cell within the notebook."
   ]
  },
  {
   "cell_type": "markdown",
   "metadata": {},
   "source": [
    "### Synthetic Data & Why It Is Important\n",
    "\n",
    "Some of the richest companies in the world like Google, Facebook and YouTube provide free services to their users and yet they amass huge revenue. What makes these companies so valuable is data, these companies accumulate enormous amounts of data on users which is extremely valuable. Using data a companies like google or facebook can monitor your behaviour and patterns like who you know and where you've been or what you bought, they can record information (name/address/email) on databases. The data they gather can help them gain an insight into users which helps them predict future actions or actions for those of a similar age/sex etc. so it's easy to see how valuable their databases become over time.\n",
    "\n",
    "However it may not always be possible to access data or relevant data for data analytics purposes and so sythethic data comes into play.\n",
    "\n",
    "This project looks at synthethic data. \"There are lots of situtations, where a scientist or an engineer needs learn or test data, but it is hard or impossible to get real data, i.e. a sample from a population obtained by measurement. The task or challenge of creating synthetical data consists in producing data which resembles or comes quite close to the intended \"real life\" data. Python is an ideal language for easily producing such data, because it has powerful numerical and linguistic functionalities.Synthetic data are also necessary to satisfy specific needs or certain conditions that may not be found in the \"real life\" data. Another use case of synthetical data is to protect privacy of the data needed.\" [[1]](https://www.python-course.eu/synthetical_test_data_with_python.php)"
   ]
  },
  {
   "cell_type": "code",
   "execution_count": null,
   "metadata": {},
   "outputs": [],
   "source": []
  },
  {
   "cell_type": "code",
   "execution_count": null,
   "metadata": {},
   "outputs": [],
   "source": []
  },
  {
   "cell_type": "code",
   "execution_count": null,
   "metadata": {},
   "outputs": [],
   "source": []
  },
  {
   "cell_type": "markdown",
   "metadata": {},
   "source": [
    "### References\n",
    "\n",
    "[1] [python-course.eu](https://www.python-course.eu/synthetical_test_data_with_python.php)\n"
   ]
  },
  {
   "cell_type": "markdown",
   "metadata": {},
   "source": [
    "Bibliography:\n",
    "\n",
    "- [TowardsDataScience - Synthetic Data Generation](https://towardsdatascience.com/synthetic-data-generation-a-must-have-skill-for-new-data-scientists-915896c0c1ae)\n",
    "\n",
    "- [python-course.eu - Synthetic Data Testing](https://www.python-course.eu/synthetical_test_data_with_python.php)"
   ]
  },
  {
   "cell_type": "code",
   "execution_count": null,
   "metadata": {},
   "outputs": [],
   "source": []
  }
 ],
 "metadata": {
  "kernelspec": {
   "display_name": "Python 3",
   "language": "python",
   "name": "python3"
  },
  "language_info": {
   "codemirror_mode": {
    "name": "ipython",
    "version": 3
   },
   "file_extension": ".py",
   "mimetype": "text/x-python",
   "name": "python",
   "nbconvert_exporter": "python",
   "pygments_lexer": "ipython3",
   "version": "3.7.1"
  }
 },
 "nbformat": 4,
 "nbformat_minor": 2
}
